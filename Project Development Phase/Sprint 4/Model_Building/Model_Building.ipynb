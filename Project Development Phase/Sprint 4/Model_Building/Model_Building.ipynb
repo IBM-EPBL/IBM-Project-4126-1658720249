{
  "cells": [
    {
      "cell_type": "markdown",
      "metadata": {
        "id": "o7z-3JJwEGtp"
      },
      "source": [
        "#**Sprint 2**\n",
        "\n",
        "Team ID : PNT2022TMID39415\n",
        "\n",
        "Project Name : Real-Time Communication System Powered by AI for Specially Abled\n",
        "___\n",
        "**From Sprint 1**"
      ]
    },
    {
      "cell_type": "code",
      "execution_count": null,
      "metadata": {
        "id": "-Wn9DkGsTVfk",
        "colab": {
          "base_uri": "https://localhost:8080/"
        },
        "outputId": "826f52ec-38e9-4a12-c605-e46542e774fa"
      },
      "outputs": [
        {
          "output_type": "stream",
          "name": "stderr",
          "text": [
            "Using TensorFlow backend.\n",
            "/usr/local/lib/python3.7/dist-packages/tensorflow/python/framework/dtypes.py:516: FutureWarning: Passing (type, 1) or '1type' as a synonym of type is deprecated; in a future version of numpy, it will be understood as (type, (1,)) / '(1,)type'.\n",
            "  _np_qint8 = np.dtype([(\"qint8\", np.int8, 1)])\n",
            "/usr/local/lib/python3.7/dist-packages/tensorflow/python/framework/dtypes.py:517: FutureWarning: Passing (type, 1) or '1type' as a synonym of type is deprecated; in a future version of numpy, it will be understood as (type, (1,)) / '(1,)type'.\n",
            "  _np_quint8 = np.dtype([(\"quint8\", np.uint8, 1)])\n",
            "/usr/local/lib/python3.7/dist-packages/tensorflow/python/framework/dtypes.py:518: FutureWarning: Passing (type, 1) or '1type' as a synonym of type is deprecated; in a future version of numpy, it will be understood as (type, (1,)) / '(1,)type'.\n",
            "  _np_qint16 = np.dtype([(\"qint16\", np.int16, 1)])\n",
            "/usr/local/lib/python3.7/dist-packages/tensorflow/python/framework/dtypes.py:519: FutureWarning: Passing (type, 1) or '1type' as a synonym of type is deprecated; in a future version of numpy, it will be understood as (type, (1,)) / '(1,)type'.\n",
            "  _np_quint16 = np.dtype([(\"quint16\", np.uint16, 1)])\n",
            "/usr/local/lib/python3.7/dist-packages/tensorflow/python/framework/dtypes.py:520: FutureWarning: Passing (type, 1) or '1type' as a synonym of type is deprecated; in a future version of numpy, it will be understood as (type, (1,)) / '(1,)type'.\n",
            "  _np_qint32 = np.dtype([(\"qint32\", np.int32, 1)])\n",
            "/usr/local/lib/python3.7/dist-packages/tensorflow/python/framework/dtypes.py:525: FutureWarning: Passing (type, 1) or '1type' as a synonym of type is deprecated; in a future version of numpy, it will be understood as (type, (1,)) / '(1,)type'.\n",
            "  np_resource = np.dtype([(\"resource\", np.ubyte, 1)])\n",
            "/usr/local/lib/python3.7/dist-packages/tensorboard/compat/tensorflow_stub/dtypes.py:541: FutureWarning: Passing (type, 1) or '1type' as a synonym of type is deprecated; in a future version of numpy, it will be understood as (type, (1,)) / '(1,)type'.\n",
            "  _np_qint8 = np.dtype([(\"qint8\", np.int8, 1)])\n",
            "/usr/local/lib/python3.7/dist-packages/tensorboard/compat/tensorflow_stub/dtypes.py:542: FutureWarning: Passing (type, 1) or '1type' as a synonym of type is deprecated; in a future version of numpy, it will be understood as (type, (1,)) / '(1,)type'.\n",
            "  _np_quint8 = np.dtype([(\"quint8\", np.uint8, 1)])\n",
            "/usr/local/lib/python3.7/dist-packages/tensorboard/compat/tensorflow_stub/dtypes.py:543: FutureWarning: Passing (type, 1) or '1type' as a synonym of type is deprecated; in a future version of numpy, it will be understood as (type, (1,)) / '(1,)type'.\n",
            "  _np_qint16 = np.dtype([(\"qint16\", np.int16, 1)])\n",
            "/usr/local/lib/python3.7/dist-packages/tensorboard/compat/tensorflow_stub/dtypes.py:544: FutureWarning: Passing (type, 1) or '1type' as a synonym of type is deprecated; in a future version of numpy, it will be understood as (type, (1,)) / '(1,)type'.\n",
            "  _np_quint16 = np.dtype([(\"quint16\", np.uint16, 1)])\n",
            "/usr/local/lib/python3.7/dist-packages/tensorboard/compat/tensorflow_stub/dtypes.py:545: FutureWarning: Passing (type, 1) or '1type' as a synonym of type is deprecated; in a future version of numpy, it will be understood as (type, (1,)) / '(1,)type'.\n",
            "  _np_qint32 = np.dtype([(\"qint32\", np.int32, 1)])\n",
            "/usr/local/lib/python3.7/dist-packages/tensorboard/compat/tensorflow_stub/dtypes.py:550: FutureWarning: Passing (type, 1) or '1type' as a synonym of type is deprecated; in a future version of numpy, it will be understood as (type, (1,)) / '(1,)type'.\n",
            "  np_resource = np.dtype([(\"resource\", np.ubyte, 1)])\n"
          ]
        }
      ],
      "source": [
        "from keras.preprocessing.image import ImageDataGenerator\n",
        "train_datagen = ImageDataGenerator(rescale = 1./255, shear_range=0.3, zoom_range=0.2, horizontal_flip=True)\n",
        "test_datagen = ImageDataGenerator(rescale = 1./255)"
      ]
    },
    {
      "cell_type": "code",
      "execution_count": null,
      "metadata": {
        "colab": {
          "base_uri": "https://localhost:8080/"
        },
        "id": "5N5sW6rsTVKl",
        "outputId": "a4e46c9e-4d6c-46c6-8dd3-03e08b004fa3"
      },
      "outputs": [
        {
          "output_type": "stream",
          "name": "stdout",
          "text": [
            "Found 15799 images belonging to 9 classes.\n",
            "Found 2250 images belonging to 9 classes.\n"
          ]
        }
      ],
      "source": [
        "x_train = train_datagen.flow_from_directory('/content/drive/MyDrive/Dataset/training_set', target_size=(64,84), batch_size=300, class_mode='categorical', color_mode = 'grayscale')\n",
        "\n",
        "x_test = test_datagen.flow_from_directory('/content/drive/MyDrive//Dataset/test_set', target_size=(64,84), batch_size=300, class_mode='categorical', color_mode = 'grayscale')"
      ]
    },
    {
      "cell_type": "markdown",
      "source": [
        "**Import The Required Model Building Libraries**"
      ],
      "metadata": {
        "id": "sz3x8AU5a6K8"
      }
    },
    {
      "cell_type": "code",
      "execution_count": null,
      "metadata": {
        "id": "yQDSCPVoyLSK"
      },
      "outputs": [],
      "source": [
        "from keras.models import Sequential \n",
        "from keras.layers import Dense \n",
        "from keras.layers import Convolution2D \n",
        "from keras.layers import MaxPooling2D \n",
        "from keras.layers import Dropout \n",
        "from keras.layers import Flatten"
      ]
    },
    {
      "cell_type": "code",
      "execution_count": null,
      "metadata": {
        "id": "0pfGvTp3yXAj"
      },
      "outputs": [],
      "source": [
        "from keras.preprocessing.image import ImageDataGenerator\n",
        "train_datagen = ImageDataGenerator(rescale = 1./255, shear_range=0.3, zoom_range=0.2, horizontal_flip=True)\n",
        "test_datagen = ImageDataGenerator(rescale = 1./255)"
      ]
    },
    {
      "cell_type": "markdown",
      "metadata": {
        "id": "Xcu1MosUCbf3"
      },
      "source": [
        "#**ADD CNN**\n",
        "\n",
        "**Initialize The Model**"
      ]
    },
    {
      "cell_type": "code",
      "execution_count": null,
      "metadata": {
        "id": "DDbG4tayyXay"
      },
      "outputs": [],
      "source": [
        "model = Sequential()"
      ]
    },
    {
      "cell_type": "code",
      "execution_count": null,
      "metadata": {
        "id": "lcdVZ035yXpa"
      },
      "outputs": [],
      "source": [
        "model.add(Convolution2D(32, (3,3), input_shape=(64,84,1), activation='relu'))"
      ]
    },
    {
      "cell_type": "code",
      "execution_count": null,
      "metadata": {
        "id": "Jy_vR09hyjHB"
      },
      "outputs": [],
      "source": [
        "model.add(MaxPooling2D(pool_size=(2,2)))"
      ]
    },
    {
      "cell_type": "code",
      "execution_count": null,
      "metadata": {
        "id": "a_Lv_vqqyjWu"
      },
      "outputs": [],
      "source": [
        "model.add(Flatten())"
      ]
    },
    {
      "cell_type": "markdown",
      "metadata": {
        "id": "YVUZt3UlCznH"
      },
      "source": [
        "**Adding The Dense Layers**"
      ]
    },
    {
      "cell_type": "code",
      "execution_count": null,
      "metadata": {
        "id": "6vrVyTynyjoy"
      },
      "outputs": [],
      "source": [
        "model.add(Dense(units=512, activation='relu'))\n",
        "model.add(Dense(units=9, activation='softmax'))"
      ]
    },
    {
      "cell_type": "markdown",
      "metadata": {
        "id": "GZkwh65CC4as"
      },
      "source": [
        "**Compiling The Model**"
      ]
    },
    {
      "cell_type": "code",
      "execution_count": null,
      "metadata": {
        "id": "5U-yzBqyyvrJ"
      },
      "outputs": [],
      "source": [
        "model.compile(loss=\"categorical_crossentropy\", metrics=[\"accuracy\"], optimizer='adam')"
      ]
    },
    {
      "cell_type": "markdown",
      "metadata": {
        "id": "zYVNmnRqC95A"
      },
      "source": [
        "**Fit The Model**"
      ]
    },
    {
      "cell_type": "code",
      "execution_count": null,
      "metadata": {
        "colab": {
          "base_uri": "https://localhost:8080/"
        },
        "id": "f_YpEd1oyv38",
        "outputId": "05743888-80bc-4fa4-e87a-5fdf82281f39"
      },
      "outputs": [
        {
          "output_type": "stream",
          "name": "stdout",
          "text": [
            "Epoch 1/10\n",
            "24/24 [==============================] - 1670s 70s/step - loss: 0.9966 - acc: 0.7040 - val_loss: 0.3521 - val_acc: 0.9207\n",
            "Epoch 2/10\n",
            "24/24 [==============================] - 1594s 66s/step - loss: 0.2378 - acc: 0.9328 - val_loss: 0.3157 - val_acc: 0.9309\n",
            "Epoch 3/10\n",
            "24/24 [==============================] - 290s 12s/step - loss: 0.1382 - acc: 0.9612 - val_loss: 0.2494 - val_acc: 0.9600\n",
            "Epoch 4/10\n",
            "24/24 [==============================] - 80s 3s/step - loss: 0.0903 - acc: 0.9788 - val_loss: 0.2534 - val_acc: 0.9589\n",
            "Epoch 5/10\n",
            "24/24 [==============================] - 82s 3s/step - loss: 0.0581 - acc: 0.9858 - val_loss: 0.2539 - val_acc: 0.9633\n",
            "Epoch 6/10\n",
            "24/24 [==============================] - 79s 3s/step - loss: 0.0420 - acc: 0.9896 - val_loss: 0.2013 - val_acc: 0.9663\n",
            "Epoch 7/10\n",
            "24/24 [==============================] - 79s 3s/step - loss: 0.0365 - acc: 0.9912 - val_loss: 0.2108 - val_acc: 0.9692\n",
            "Epoch 8/10\n",
            "24/24 [==============================] - 82s 3s/step - loss: 0.0262 - acc: 0.9940 - val_loss: 0.2123 - val_acc: 0.9711\n",
            "Epoch 9/10\n",
            "24/24 [==============================] - 78s 3s/step - loss: 0.0192 - acc: 0.9962 - val_loss: 0.2071 - val_acc: 0.9730\n",
            "Epoch 10/10\n",
            "24/24 [==============================] - 81s 3s/step - loss: 0.0159 - acc: 0.9971 - val_loss: 0.1968 - val_acc: 0.9700\n"
          ]
        },
        {
          "output_type": "execute_result",
          "data": {
            "text/plain": [
              "<keras.callbacks.History at 0x7f5fb86eed50>"
            ]
          },
          "metadata": {},
          "execution_count": 19
        }
      ],
      "source": [
        "model.fit_generator(x_train, steps_per_epoch=24, epochs=10, validation_data=x_test, validation_steps=40)"
      ]
    },
    {
      "cell_type": "markdown",
      "metadata": {
        "id": "vwDRcafnDFmq"
      },
      "source": [
        "**Save The Model**"
      ]
    },
    {
      "cell_type": "code",
      "source": [
        "from google.colab import drive\n",
        "drive.mount('/content/drive')"
      ],
      "metadata": {
        "id": "3eUA9k0uZAJX"
      },
      "execution_count": null,
      "outputs": []
    },
    {
      "cell_type": "code",
      "source": [
        "%cd /content/drive/MyDrive"
      ],
      "metadata": {
        "colab": {
          "base_uri": "https://localhost:8080/"
        },
        "id": "pfXfouAdY_9F",
        "outputId": "6c40af94-8648-4de9-bba0-c634e7b6d58c"
      },
      "execution_count": 48,
      "outputs": [
        {
          "output_type": "stream",
          "name": "stdout",
          "text": [
            "/content/drive/MyDrive\n"
          ]
        }
      ]
    },
    {
      "cell_type": "code",
      "source": [
        "model.save('aslpng1.h5')"
      ],
      "metadata": {
        "id": "hIQaYxgsZNj8"
      },
      "execution_count": 49,
      "outputs": []
    }
  ],
  "metadata": {
    "colab": {
      "collapsed_sections": [],
      "provenance": []
    },
    "kernelspec": {
      "display_name": "Python 3",
      "name": "python3"
    },
    "language_info": {
      "name": "python"
    }
  },
  "nbformat": 4,
  "nbformat_minor": 0
}
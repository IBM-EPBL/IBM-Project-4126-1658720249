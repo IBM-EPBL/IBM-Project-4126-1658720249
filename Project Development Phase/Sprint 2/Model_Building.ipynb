{
  "cells": [
    {
      "cell_type": "markdown",
      "metadata": {
        "id": "8eUkdjG8NCqJ"
      },
      "source": [
        "#**Sprint 2**\n",
        "\n",
        "Team ID : PNT2022TMID39415\n",
        "\n",
        "Project Name : Real-Time Communication System Powered by AI for Specially Abled\n",
        "____\n",
        "\n",
        "**From Sprint 1**"
      ]
    },
    {
      "cell_type": "code",
      "execution_count": null,
      "metadata": {
        "id": "ei4Kh16o_GF7"
      },
      "outputs": [],
      "source": [
        "#import imagedatagenerator\n",
        "from keras.preprocessing.image import ImageDataGenerator"
      ]
    },
    {
      "cell_type": "code",
      "execution_count": null,
      "metadata": {
        "id": "nFErSz_Z6NAD"
      },
      "outputs": [],
      "source": [
        "#training datagen\n",
        "train_datagen=ImageDataGenerator(rescale=1./255,shear_range=0.2,zoom_range=0.2,horizontal_flip=True)"
      ]
    },
    {
      "cell_type": "code",
      "execution_count": null,
      "metadata": {
        "id": "CYbeH_3Z6M9Z"
      },
      "outputs": [],
      "source": [
        "#testing datagen\n",
        "test_datagen=ImageDataGenerator(rescale=1./255)"
      ]
    },
    {
      "cell_type": "code",
      "execution_count": null,
      "metadata": {
        "id": "ZyAkWq9Q6M6T"
      },
      "outputs": [],
      "source": [
        "import tensorflow as tf\n",
        "import os"
      ]
    },
    {
      "cell_type": "code",
      "execution_count": null,
      "metadata": {
        "id": "vQyHSMKv6M1k"
      },
      "outputs": [],
      "source": [
        "#create model\n",
        "from keras.models import Sequential\n",
        "from keras.layers import Dense\n",
        "from keras.layers import Convolution2D\n",
        "from keras.layers import MaxPooling2D\n",
        "from keras.layers import Dropout\n",
        "from keras.layers import Flatten \n",
        "from tensorflow.keras.preprocessing.image import ImageDataGenerator"
      ]
    },
    {
      "cell_type": "code",
      "execution_count": null,
      "metadata": {
        "id": "TUNZB2lb6Myd"
      },
      "outputs": [],
      "source": [
        "import numpy as np\n",
        "import matplotlib.pyplot as plt #to view graph in colab itself\n",
        "import IPython.display as display\n",
        "from PIL import Image\n",
        "import pathlib"
      ]
    },
    {
      "cell_type": "code",
      "execution_count": null,
      "metadata": {
        "colab": {
          "base_uri": "https://localhost:8080/"
        },
        "id": "_g5DWzb76qg5",
        "outputId": "13d4a46f-99c4-40f1-bb18-c84ebba763a4"
      },
      "outputs": [
        {
          "name": "stdout",
          "output_type": "stream",
          "text": [
            "Found 15799 images belonging to 9 classes.\n"
          ]
        }
      ],
      "source": [
        "x_train=train_datagen.flow_from_directory('/content/drive/MyDrive/Dataset/training_set',target_size=(64,64),batch_size=200,\n",
        "                                          class_mode='categorical',color_mode=\"grayscale\")"
      ]
    },
    {
      "cell_type": "code",
      "execution_count": null,
      "metadata": {
        "colab": {
          "base_uri": "https://localhost:8080/"
        },
        "id": "uUNFtQyW6qaz",
        "outputId": "9a1e5a9b-eb5a-4e95-d0da-19eb7b52551d"
      },
      "outputs": [
        {
          "name": "stdout",
          "output_type": "stream",
          "text": [
            "Found 2250 images belonging to 9 classes.\n"
          ]
        }
      ],
      "source": [
        "x_test=test_datagen.flow_from_directory('/content/drive/MyDrive/Dataset/test_set',target_size=(64,64),batch_size=200,\n",
        "                                          class_mode='categorical',color_mode=\"grayscale\")"
      ]
    },
    {
      "cell_type": "code",
      "execution_count": null,
      "metadata": {
        "id": "VrwtwWnU6qWr"
      },
      "outputs": [],
      "source": [
        "a=len(x_train)\n",
        "b=len(x_test)"
      ]
    },
    {
      "cell_type": "code",
      "execution_count": null,
      "metadata": {
        "colab": {
          "base_uri": "https://localhost:8080/"
        },
        "id": "whugh2uv6qUK",
        "outputId": "ff47953b-210b-4ac2-b5d3-46c85c6fe6f8"
      },
      "outputs": [
        {
          "name": "stdout",
          "output_type": "stream",
          "text": [
            "79\n"
          ]
        }
      ],
      "source": [
        "print(a)"
      ]
    },
    {
      "cell_type": "code",
      "execution_count": null,
      "metadata": {
        "colab": {
          "base_uri": "https://localhost:8080/"
        },
        "id": "M50ZNFzk6qRk",
        "outputId": "b0a9b5a6-6f50-4c38-b29f-635f481c6717"
      },
      "outputs": [
        {
          "name": "stdout",
          "output_type": "stream",
          "text": [
            "12\n"
          ]
        }
      ],
      "source": [
        "print(b)"
      ]
    },
    {
      "cell_type": "markdown",
      "metadata": {
        "id": "qqMmIUySMRY6"
      },
      "source": [
        "**ADD CNN**"
      ]
    },
    {
      "cell_type": "code",
      "execution_count": null,
      "metadata": {
        "id": "6hrYYZ283xdQ"
      },
      "outputs": [],
      "source": [
        "model=Sequential()"
      ]
    },
    {
      "cell_type": "code",
      "execution_count": null,
      "metadata": {
        "id": "yk2R7lhT3xjY"
      },
      "outputs": [],
      "source": [
        "model.add(Convolution2D(32,(3,3), input_shape=(64,64,1), activation = 'relu'))"
      ]
    },
    {
      "cell_type": "code",
      "execution_count": null,
      "metadata": {
        "id": "Z51VeLiw320I"
      },
      "outputs": [],
      "source": [
        "model.add(MaxPooling2D(pool_size=(2,2)))"
      ]
    },
    {
      "cell_type": "code",
      "execution_count": null,
      "metadata": {
        "id": "o4FUVlMU323q"
      },
      "outputs": [],
      "source": [
        "model.add(Flatten())"
      ]
    },
    {
      "cell_type": "code",
      "execution_count": null,
      "metadata": {
        "id": "Rb9N5bbv39xY"
      },
      "outputs": [],
      "source": [
        "model.add(Dense( units=512, activation='relu'))"
      ]
    },
    {
      "cell_type": "code",
      "execution_count": null,
      "metadata": {
        "id": "YD8iErTk3_2o"
      },
      "outputs": [],
      "source": [
        "model.add(Dense(units=9, activation='softmax'))"
      ]
    },
    {
      "cell_type": "markdown",
      "metadata": {
        "id": "LE9Q2Bk8NkFO"
      },
      "source": [
        "**Complie the Model**"
      ]
    },
    {
      "cell_type": "code",
      "execution_count": null,
      "metadata": {
        "id": "-q8BFi6J3_5D"
      },
      "outputs": [],
      "source": [
        "model.compile(loss='categorical_crossentropy', optimizer='adam', metrics=['accuracy'])"
      ]
    },
    {
      "cell_type": "markdown",
      "metadata": {
        "id": "R7Q08iNDNegH"
      },
      "source": [
        "**Fit the Model**"
      ]
    },
    {
      "cell_type": "code",
      "execution_count": null,
      "metadata": {
        "colab": {
          "background_save": true,
          "base_uri": "https://localhost:8080/"
        },
        "id": "zuxPpsDIIlX-",
        "outputId": "40f21c3d-ffaa-4c99-d5b0-9e8e42598b26"
      },
      "outputs": [
        {
          "name": "stderr",
          "output_type": "stream",
          "text": [
            "/usr/local/lib/python3.7/dist-packages/ipykernel_launcher.py:1: UserWarning: `Model.fit_generator` is deprecated and will be removed in a future version. Please use `Model.fit`, which supports generators.\n",
            "  \"\"\"Entry point for launching an IPython kernel.\n"
          ]
        },
        {
          "name": "stdout",
          "output_type": "stream",
          "text": [
            "Epoch 1/10\n",
            "79/79 [==============================] - 104s 1s/step - loss: 0.3743 - accuracy: 0.8824 - val_loss: 0.1612 - val_accuracy: 0.9711\n",
            "Epoch 2/10\n",
            "79/79 [==============================] - 98s 1s/step - loss: 0.0480 - accuracy: 0.9878 - val_loss: 0.2134 - val_accuracy: 0.9636\n",
            "Epoch 3/10\n",
            "79/79 [==============================] - 97s 1s/step - loss: 0.0235 - accuracy: 0.9947 - val_loss: 0.1876 - val_accuracy: 0.9707\n",
            "Epoch 4/10\n",
            "79/79 [==============================] - 98s 1s/step - loss: 0.0131 - accuracy: 0.9969 - val_loss: 0.1638 - val_accuracy: 0.9778\n",
            "Epoch 5/10\n",
            "79/79 [==============================] - 99s 1s/step - loss: 0.0086 - accuracy: 0.9978 - val_loss: 0.1833 - val_accuracy: 0.9751\n",
            "Epoch 6/10\n",
            "79/79 [==============================] - 98s 1s/step - loss: 0.0069 - accuracy: 0.9985 - val_loss: 0.1965 - val_accuracy: 0.9787\n",
            "Epoch 7/10\n",
            "79/79 [==============================] - 100s 1s/step - loss: 0.0060 - accuracy: 0.9985 - val_loss: 0.1936 - val_accuracy: 0.9782\n",
            "Epoch 8/10\n",
            "79/79 [==============================] - 99s 1s/step - loss: 0.0037 - accuracy: 0.9992 - val_loss: 0.2064 - val_accuracy: 0.9769\n",
            "Epoch 9/10\n",
            "79/79 [==============================] - 99s 1s/step - loss: 0.0042 - accuracy: 0.9990 - val_loss: 0.2108 - val_accuracy: 0.9782\n",
            "Epoch 10/10\n",
            "79/79 [==============================] - 98s 1s/step - loss: 0.0033 - accuracy: 0.9994 - val_loss: 0.2402 - val_accuracy: 0.9773\n"
          ]
        },
        {
          "data": {
            "text/plain": [
              "<keras.callbacks.History at 0x7f09dd2d50d0>"
            ]
          },
          "execution_count": 60,
          "metadata": {},
          "output_type": "execute_result"
        }
      ],
      "source": [
        "model.fit_generator(x_train,steps_per_epoch=len(x_train),epochs=10,validation_data=x_test,validation_steps=len(x_test))"
      ]
    },
    {
      "cell_type": "code",
      "execution_count": 61,
      "metadata": {
        "colab": {
          "base_uri": "https://localhost:8080/"
        },
        "id": "Z7lIpHHnKDjG",
        "outputId": "9c1f6577-e2ec-4c26-cd85-7de5c881faf3"
      },
      "outputs": [
        {
          "output_type": "stream",
          "name": "stdout",
          "text": [
            "/content/drive/MyDrive/IBM projects\n"
          ]
        }
      ],
      "source": [
        "%cd /content/drive/MyDrive/IBM projects"
      ]
    },
    {
      "cell_type": "markdown",
      "metadata": {
        "id": "c1zNYfcZDfqO"
      },
      "source": [
        "**Save the Model**"
      ]
    },
    {
      "cell_type": "code",
      "execution_count": 62,
      "metadata": {
        "id": "VZCu7YWgDeY5"
      },
      "outputs": [],
      "source": [
        "model.save('aslpng2.h5')                                      #save the model"
      ]
    },
    {
      "cell_type": "markdown",
      "metadata": {
        "id": "CYTqX9ndMM6q"
      },
      "source": [
        "***Test The Model***"
      ]
    },
    {
      "cell_type": "code",
      "execution_count": 63,
      "metadata": {
        "id": "0KUhYxpe68pi"
      },
      "outputs": [],
      "source": [
        "from tensorflow.keras.models import load_model\n",
        "import numpy as np\n",
        "import cv2\n",
        "from tensorflow.keras.preprocessing import image"
      ]
    },
    {
      "cell_type": "code",
      "execution_count": 64,
      "metadata": {
        "id": "GGcipVT6695T"
      },
      "outputs": [],
      "source": [
        "#load the model\n",
        "model=load_model('aslpng2.h5')"
      ]
    },
    {
      "cell_type": "code",
      "execution_count": 65,
      "metadata": {
        "colab": {
          "base_uri": "https://localhost:8080/",
          "height": 81
        },
        "id": "eBcaCQkV699b",
        "outputId": "dc69a12d-1bea-4b50-eb06-08fda73e4872"
      },
      "outputs": [
        {
          "output_type": "execute_result",
          "data": {
            "text/plain": [
              "<PIL.Image.Image image mode=RGB size=64x64 at 0x7F09E2440A90>"
            ],
            "image/png": "[encoded data removed]"
          },
          "metadata": {},
          "execution_count": 65
        }
      ],
      "source": [
        "img=image.load_img('/content/drive/MyDrive/Dataset/test_set/A/10.png',target_size=(64,64))\n",
        "img"
      ]
    },
    {
      "cell_type": "markdown",
      "metadata": {
        "id": "bv0ip-uSDmZE"
      },
      "source": [
        "**Prediction of Model**"
      ]
    },
    {
      "cell_type": "code",
      "execution_count": 66,
      "metadata": {
        "id": "A8j4V2q6KeVf"
      },
      "outputs": [],
      "source": [
        "from skimage.transform import resize\n",
        "def detect(frame):\n",
        "    img=image.img_to_array(frame)\n",
        "    img = resize(img,(64,64,1))\n",
        "    img = np.expand_dims(img,axis=0)\n",
        "    pred=np.argmax(model.predict(img))\n",
        "    op=['A','B','C','D','E','F','G','H','I']\n",
        "    print(\"THE PREDICTED LETTER IS \",op[pred])"
      ]
    },
    {
      "cell_type": "code",
      "execution_count": 67,
      "metadata": {
        "colab": {
          "base_uri": "https://localhost:8080/"
        },
        "id": "F06vT6U1KhV-",
        "outputId": "c33f201e-40c0-4cfb-f9d6-3821b1f46492"
      },
      "outputs": [
        {
          "output_type": "stream",
          "name": "stdout",
          "text": [
            "1/1 [==============================] - 0s 115ms/step\n",
            "THE PREDICTED LETTER IS  A\n"
          ]
        }
      ],
      "source": [
        "img=image.load_img(\"/content/drive/MyDrive/Dataset/test_set/A/10.png\")\n",
        "detect(img)"
      ]
    },
    {
      "cell_type": "code",
      "execution_count": 68,
      "metadata": {
        "colab": {
          "base_uri": "https://localhost:8080/"
        },
        "id": "nWXg8bW9KhYv",
        "outputId": "62ccecce-3ae5-4fbe-d46f-e81f6eb7a2ba"
      },
      "outputs": [
        {
          "output_type": "stream",
          "name": "stdout",
          "text": [
            "1/1 [==============================] - 0s 28ms/step\n",
            "THE PREDICTED LETTER IS  E\n"
          ]
        }
      ],
      "source": [
        "img = image.load_img('/content/drive/MyDrive/Dataset/test_set/E/111.png')\n",
        "pred=detect(img)"
      ]
    },
    {
      "cell_type": "code",
      "execution_count": 69,
      "metadata": {
        "colab": {
          "base_uri": "https://localhost:8080/"
        },
        "id": "mO6F3ASzKhbO",
        "outputId": "38678ea1-ad23-41aa-91ed-1d800ba837fc"
      },
      "outputs": [
        {
          "output_type": "stream",
          "name": "stdout",
          "text": [
            "1/1 [==============================] - 0s 25ms/step\n",
            "THE PREDICTED LETTER IS  D\n"
          ]
        }
      ],
      "source": [
        "img=image.load_img('/content/drive/MyDrive/Dataset/test_set/D/110.png')\n",
        "detect(img)"
      ]
    }
  ],
  "metadata": {
    "colab": {
      "provenance": []
    },
    "kernelspec": {
      "display_name": "Python 3",
      "name": "python3"
    },
    "language_info": {
      "name": "python"
    }
  },
  "nbformat": 4,
  "nbformat_minor": 0
}